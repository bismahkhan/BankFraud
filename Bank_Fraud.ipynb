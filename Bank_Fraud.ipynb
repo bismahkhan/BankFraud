{
 "cells": [
  {
   "cell_type": "markdown",
   "metadata": {},
   "source": [
    "## Fraud Detection Notebook\n",
    "### Team Members: Bismah Khan and Farooq Husain\n",
    "### Date: 26 July 2021"
   ]
  },
  {
   "cell_type": "markdown",
   "metadata": {},
   "source": [
    "| Column Name |                                                                       Description                                                                       |\n",
    "|:-----------:|:-------------------------------------------------------------------------------------------------------------------------------------------------------:|\n",
    "|     Step    |                This feature represents the day from the start of simulation. It has 180   steps so simulation ran for virtually 6 months.               |\n",
    "|   Customer  |                                             This is the unique customer ID which is assigned to a customer.                                             |\n",
    "|     Age     | These are the age brackets assigned to the relevant customers. 0: <=   18,  1: 19-25, 2: 26-35, 3: 36-45, 4:   46:55, 5: 56:65, 6: > 65 and U: Unknown. |\n",
    "|    Gender   |                                   Gender of the customer - F -> Female , M -> Male , U -> Unknown,   E -> Enterprise.                                   |\n",
    "|  zipcodeOri |                                                                Zip code of the customer.                                                                |\n",
    "|   merchant  |                                               It is the the unique ID attributed to a particular Merchant.                                              |\n",
    "| zipMerchant |                                                                 Zip code of the merchant                                                                |\n",
    "|   category  |                                       Line of business of the merchant or the services provided by the   merchant.                                      |\n",
    "|    amount   |                                                   The amount of transaction performed by the customer                                                   |\n",
    "|    fraud    |                                             0 indicates genuine transaction, 1 indicates fraudulent activity                                            |"
   ]
  },
  {
   "cell_type": "markdown",
   "metadata": {},
   "source": [
    "## Goal of the project:\n",
    "\n",
    "1. Identify the characteristics of fraudulent transactions;\n",
    "2. Evaluate fraudulent transactions to determine if they follow any predetermined pattern e.g. round-sum transactions, amounts involved in the transactions, sectors most susceptible to fraud etc;\n",
    "3. Determine if fraudulent transactions were common within a specific age-group, gender or entity;\n",
    "4. Choose a suitable machine learning model to predict fraudulent transactions based on the identified characteristics accompanying fraudulent transactions;\n",
    "5. Analyse limitations of the Machine Learning Model.\n",
    "\n",
    "\n"
   ]
  },
  {
   "cell_type": "markdown",
   "metadata": {},
   "source": [
    "## EDA"
   ]
  },
  {
   "cell_type": "code",
   "execution_count": 106,
   "metadata": {},
   "outputs": [],
   "source": [
    "import pandas as pd\n",
    "import matplotlib.pyplot as plt\n",
    "import numpy as np\n",
    "import seaborn as sns\n",
    "\n",
    "#!pip3 install catboost\n",
    "\n",
    "from sklearn.model_selection import train_test_split\n",
    "from catboost import CatBoostRegressor\n",
    "from sklearn.metrics import mean_absolute_error\n",
    "\n",
    "\n",
    "%matplotlib inline"
   ]
  },
  {
   "cell_type": "code",
   "execution_count": 69,
   "metadata": {},
   "outputs": [],
   "source": [
    "bankFraud = pd.read_csv('./bs140513_032310.csv')"
   ]
  },
  {
   "cell_type": "code",
   "execution_count": 70,
   "metadata": {},
   "outputs": [
    {
     "data": {
      "text/html": [
       "<div>\n",
       "<style scoped>\n",
       "    .dataframe tbody tr th:only-of-type {\n",
       "        vertical-align: middle;\n",
       "    }\n",
       "\n",
       "    .dataframe tbody tr th {\n",
       "        vertical-align: top;\n",
       "    }\n",
       "\n",
       "    .dataframe thead th {\n",
       "        text-align: right;\n",
       "    }\n",
       "</style>\n",
       "<table border=\"1\" class=\"dataframe\">\n",
       "  <thead>\n",
       "    <tr style=\"text-align: right;\">\n",
       "      <th></th>\n",
       "      <th>step</th>\n",
       "      <th>customer</th>\n",
       "      <th>age</th>\n",
       "      <th>gender</th>\n",
       "      <th>zipcodeOri</th>\n",
       "      <th>merchant</th>\n",
       "      <th>zipMerchant</th>\n",
       "      <th>category</th>\n",
       "      <th>amount</th>\n",
       "      <th>fraud</th>\n",
       "    </tr>\n",
       "  </thead>\n",
       "  <tbody>\n",
       "    <tr>\n",
       "      <th>0</th>\n",
       "      <td>0</td>\n",
       "      <td>'C1093826151'</td>\n",
       "      <td>4</td>\n",
       "      <td>M</td>\n",
       "      <td>'28007'</td>\n",
       "      <td>'M348934600'</td>\n",
       "      <td>'28007'</td>\n",
       "      <td>'es_transportation'</td>\n",
       "      <td>4.55</td>\n",
       "      <td>0</td>\n",
       "    </tr>\n",
       "    <tr>\n",
       "      <th>1</th>\n",
       "      <td>0</td>\n",
       "      <td>'C352968107'</td>\n",
       "      <td>2</td>\n",
       "      <td>M</td>\n",
       "      <td>'28007'</td>\n",
       "      <td>'M348934600'</td>\n",
       "      <td>'28007'</td>\n",
       "      <td>'es_transportation'</td>\n",
       "      <td>39.68</td>\n",
       "      <td>0</td>\n",
       "    </tr>\n",
       "    <tr>\n",
       "      <th>2</th>\n",
       "      <td>0</td>\n",
       "      <td>'C2054744914'</td>\n",
       "      <td>4</td>\n",
       "      <td>F</td>\n",
       "      <td>'28007'</td>\n",
       "      <td>'M1823072687'</td>\n",
       "      <td>'28007'</td>\n",
       "      <td>'es_transportation'</td>\n",
       "      <td>26.89</td>\n",
       "      <td>0</td>\n",
       "    </tr>\n",
       "    <tr>\n",
       "      <th>3</th>\n",
       "      <td>0</td>\n",
       "      <td>'C1760612790'</td>\n",
       "      <td>3</td>\n",
       "      <td>M</td>\n",
       "      <td>'28007'</td>\n",
       "      <td>'M348934600'</td>\n",
       "      <td>'28007'</td>\n",
       "      <td>'es_transportation'</td>\n",
       "      <td>17.25</td>\n",
       "      <td>0</td>\n",
       "    </tr>\n",
       "    <tr>\n",
       "      <th>4</th>\n",
       "      <td>0</td>\n",
       "      <td>'C757503768'</td>\n",
       "      <td>5</td>\n",
       "      <td>M</td>\n",
       "      <td>'28007'</td>\n",
       "      <td>'M348934600'</td>\n",
       "      <td>'28007'</td>\n",
       "      <td>'es_transportation'</td>\n",
       "      <td>35.72</td>\n",
       "      <td>0</td>\n",
       "    </tr>\n",
       "  </tbody>\n",
       "</table>\n",
       "</div>"
      ],
      "text/plain": [
       "   step       customer age gender zipcodeOri       merchant zipMerchant  \\\n",
       "0     0  'C1093826151'   4      M    '28007'   'M348934600'     '28007'   \n",
       "1     0   'C352968107'   2      M    '28007'   'M348934600'     '28007'   \n",
       "2     0  'C2054744914'   4      F    '28007'  'M1823072687'     '28007'   \n",
       "3     0  'C1760612790'   3      M    '28007'   'M348934600'     '28007'   \n",
       "4     0   'C757503768'   5      M    '28007'   'M348934600'     '28007'   \n",
       "\n",
       "              category  amount  fraud  \n",
       "0  'es_transportation'    4.55      0  \n",
       "1  'es_transportation'   39.68      0  \n",
       "2  'es_transportation'   26.89      0  \n",
       "3  'es_transportation'   17.25      0  \n",
       "4  'es_transportation'   35.72      0  "
      ]
     },
     "execution_count": 70,
     "metadata": {},
     "output_type": "execute_result"
    }
   ],
   "source": [
    "bankFraud.head()"
   ]
  },
  {
   "cell_type": "markdown",
   "metadata": {},
   "source": [
    "We noted that the columns titled ***'zipcodeOri'*** and ***'zipMerchant'*** had only one value of ***'28007'***. Since all entries had the same entry in these two columns, we decided to remove these columns since they would not prove useful in our machine learning model.\n",
    "\n",
    "We also decided to remove the ***\"step\"*** column since we understand that it is the count of day for the whole simulation and would have little impact on training the machine learning model."
   ]
  },
  {
   "cell_type": "code",
   "execution_count": 71,
   "metadata": {},
   "outputs": [],
   "source": [
    "unwantedFeatures = ['zipcodeOri','zipMerchant','step']\n",
    "features = bankFraud.drop(unwantedFeatures, axis=1, inplace=True)"
   ]
  },
  {
   "cell_type": "code",
   "execution_count": 72,
   "metadata": {},
   "outputs": [
    {
     "data": {
      "text/plain": [
       "customer    0\n",
       "age         0\n",
       "gender      0\n",
       "merchant    0\n",
       "category    0\n",
       "amount      0\n",
       "fraud       0\n",
       "dtype: int64"
      ]
     },
     "execution_count": 72,
     "metadata": {},
     "output_type": "execute_result"
    }
   ],
   "source": [
    "# Counts missing value in the data frame\n",
    "bankFraud.isnull().sum()"
   ]
  },
  {
   "cell_type": "markdown",
   "metadata": {},
   "source": [
    "With this method, we have concluded that there are no missing values"
   ]
  },
  {
   "cell_type": "code",
   "execution_count": 73,
   "metadata": {},
   "outputs": [
    {
     "name": "stdout",
     "output_type": "stream",
     "text": [
      "      customer                                                                \\\n",
      "         count unique            top freq mean  std  min  25%  50%  75%  max   \n",
      "fraud                                                                          \n",
      "0       587443   4112   'C980876590'  189  NaN  NaN  NaN  NaN  NaN  NaN  NaN   \n",
      "1         7200   1483  'C1350963410'  144  NaN  NaN  NaN  NaN  NaN  NaN  NaN   \n",
      "\n",
      "          age                                                        gender  \\\n",
      "        count unique top    freq mean  std  min  25%  50%  75%  max   count   \n",
      "fraud                                                                         \n",
      "0      587443      8   2  184966  NaN  NaN  NaN  NaN  NaN  NaN  NaN  587443   \n",
      "1        7200      8   2    2344  NaN  NaN  NaN  NaN  NaN  NaN  NaN    7200   \n",
      "\n",
      "                                                            merchant         \\\n",
      "      unique top    freq mean  std  min  25%  50%  75%  max    count unique   \n",
      "fraud                                                                         \n",
      "0          4   F  319807  NaN  NaN  NaN  NaN  NaN  NaN  NaN   587443     50   \n",
      "1          3   F    4758  NaN  NaN  NaN  NaN  NaN  NaN  NaN     7200     30   \n",
      "\n",
      "                                                                category  \\\n",
      "                 top    freq mean  std  min  25%  50%  75%  max    count   \n",
      "fraud                                                                      \n",
      "0      'M1823072687'  299693  NaN  NaN  NaN  NaN  NaN  NaN  NaN   587443   \n",
      "1       'M480139044'    1634  NaN  NaN  NaN  NaN  NaN  NaN  NaN     7200   \n",
      "\n",
      "                                                                              \\\n",
      "      unique                  top    freq mean  std  min  25%  50%  75%  max   \n",
      "fraud                                                                          \n",
      "0         15  'es_transportation'  505119  NaN  NaN  NaN  NaN  NaN  NaN  NaN   \n",
      "1         12   'es_sportsandtoys'    1982  NaN  NaN  NaN  NaN  NaN  NaN  NaN   \n",
      "\n",
      "         amount                                                        \\\n",
      "          count unique top freq        mean         std   min     25%   \n",
      "fraud                                                                   \n",
      "0      587443.0    NaN NaN  NaN   31.847230   31.470876  0.00   13.59   \n",
      "1        7200.0    NaN NaN  NaN  530.926551  835.587112  0.03  159.98   \n",
      "\n",
      "                                   \n",
      "           50%       75%      max  \n",
      "fraud                              \n",
      "0       26.610   41.8950  2144.86  \n",
      "1      319.175  548.9775  8329.96  \n"
     ]
    }
   ],
   "source": [
    "with pd.option_context('display.max_columns', 66):\n",
    "     print(bankFraud.groupby('fraud').describe(include='all'))"
   ]
  },
  {
   "cell_type": "markdown",
   "metadata": {},
   "source": [
    "### From the describe method, we've learned the following: \n",
    "\n",
    "1. **Total Number of Fraudulent Activities***: 7200\n",
    "2. ***Total Number of Unique Merchants***: 50\n",
    "3. ***Total Number of Unique Customers Involved in Fraudulent Activities***: 1483 (36.07% of the customers)\n",
    "4. ***Mean Avg of Genuine Transactions***: Approx 32 dollars\n",
    "5. ***Mean Avg of Fraudulent Transactions***: Approx 531 dollars\n",
    "6. ***Max Amount of Single Fraudulent Transaction***: Approx 8330 dollars\n",
    "7. Customer ***'C1350963410'*** has indulged in 144 fraudulent transactions\n",
    "8. Least Amount of Non-Fraudulent Transaction: 0 dollars -> These rows can be dropped since they're useless"
   ]
  },
  {
   "cell_type": "code",
   "execution_count": 74,
   "metadata": {},
   "outputs": [],
   "source": [
    "# Least Amount of Non-Fraudulent Transaction: 0 dollars -> These rows can be dropped since they're useless & outliers\n",
    "bankFraud.drop(bankFraud.loc[bankFraud['amount']==0].index, inplace=True)"
   ]
  },
  {
   "cell_type": "code",
   "execution_count": 75,
   "metadata": {},
   "outputs": [],
   "source": [
    "# We've replaced the string 'U' that describes the Unknown values in the age column and assigned it to the key '7'\n",
    "bankFraud['age'] = bankFraud['age'].replace(['U'],'7')"
   ]
  },
  {
   "cell_type": "code",
   "execution_count": 76,
   "metadata": {},
   "outputs": [
    {
     "name": "stdout",
     "output_type": "stream",
     "text": [
      "<class 'pandas.core.frame.DataFrame'>\n",
      "Int64Index: 594591 entries, 0 to 594642\n",
      "Data columns (total 7 columns):\n",
      " #   Column    Non-Null Count   Dtype  \n",
      "---  ------    --------------   -----  \n",
      " 0   customer  594591 non-null  object \n",
      " 1   age       594591 non-null  int64  \n",
      " 2   gender    594591 non-null  object \n",
      " 3   merchant  594591 non-null  object \n",
      " 4   category  594591 non-null  object \n",
      " 5   amount    594591 non-null  float64\n",
      " 6   fraud     594591 non-null  int64  \n",
      "dtypes: float64(1), int64(2), object(4)\n",
      "memory usage: 36.3+ MB\n"
     ]
    }
   ],
   "source": [
    "# We used this method to convert column age which was intially documented as string to an integer to facilitate our analysis.\n",
    "bankFraud['age'] = bankFraud['age'].apply(pd.to_numeric)\n",
    "bankFraud.info()"
   ]
  },
  {
   "cell_type": "code",
   "execution_count": 79,
   "metadata": {},
   "outputs": [
    {
     "data": {
      "text/html": [
       "<div>\n",
       "<style scoped>\n",
       "    .dataframe tbody tr th:only-of-type {\n",
       "        vertical-align: middle;\n",
       "    }\n",
       "\n",
       "    .dataframe tbody tr th {\n",
       "        vertical-align: top;\n",
       "    }\n",
       "\n",
       "    .dataframe thead th {\n",
       "        text-align: right;\n",
       "    }\n",
       "</style>\n",
       "<table border=\"1\" class=\"dataframe\">\n",
       "  <thead>\n",
       "    <tr style=\"text-align: right;\">\n",
       "      <th>fraud</th>\n",
       "      <th>0</th>\n",
       "      <th>1</th>\n",
       "    </tr>\n",
       "    <tr>\n",
       "      <th>gender</th>\n",
       "      <th></th>\n",
       "      <th></th>\n",
       "    </tr>\n",
       "  </thead>\n",
       "  <tbody>\n",
       "    <tr>\n",
       "      <th>E</th>\n",
       "      <td>1170.0</td>\n",
       "      <td>7.0</td>\n",
       "    </tr>\n",
       "    <tr>\n",
       "      <th>F</th>\n",
       "      <td>319780.0</td>\n",
       "      <td>4758.0</td>\n",
       "    </tr>\n",
       "    <tr>\n",
       "      <th>M</th>\n",
       "      <td>265926.0</td>\n",
       "      <td>2435.0</td>\n",
       "    </tr>\n",
       "    <tr>\n",
       "      <th>U</th>\n",
       "      <td>515.0</td>\n",
       "      <td>NaN</td>\n",
       "    </tr>\n",
       "  </tbody>\n",
       "</table>\n",
       "</div>"
      ],
      "text/plain": [
       "fraud          0       1\n",
       "gender                  \n",
       "E         1170.0     7.0\n",
       "F       319780.0  4758.0\n",
       "M       265926.0  2435.0\n",
       "U          515.0     NaN"
      ]
     },
     "execution_count": 79,
     "metadata": {},
     "output_type": "execute_result"
    }
   ],
   "source": [
    "bankFraud.pivot_table('amount', index='gender', columns='fraud', aggfunc='count')"
   ]
  },
  {
   "cell_type": "markdown",
   "metadata": {},
   "source": [
    "We have 515 Unknown values for gender and none of these transactions are involved in any fraudulent activities so we've deemed this to be insignificant and have decided to drop it from our data."
   ]
  },
  {
   "cell_type": "code",
   "execution_count": 80,
   "metadata": {},
   "outputs": [],
   "source": [
    "for index, row in bankFraud.iterrows():\n",
    "   if row['gender'] == 'U':\n",
    "        bankFraud.drop(index, inplace=True)"
   ]
  },
  {
   "cell_type": "code",
   "execution_count": 81,
   "metadata": {},
   "outputs": [],
   "source": [
    "# Convert 'Gender' to 1,2,3 instead of F,M,E\n",
    "# .map() will map values in the original to values in the specified data\n",
    "genderFlag = {\n",
    "    'F': 1,\n",
    "    'M': 2,\n",
    "    'E': 3,\n",
    "}\n",
    "\n",
    "bankFraud['gender'] = bankFraud['gender'].map(genderFlag)"
   ]
  },
  {
   "cell_type": "code",
   "execution_count": 107,
   "metadata": {},
   "outputs": [],
   "source": [
    "bankFraud_fraud = bankFraud.loc[bankFraud.fraud == 1]"
   ]
  },
  {
   "cell_type": "code",
   "execution_count": 109,
   "metadata": {},
   "outputs": [
    {
     "data": {
      "text/plain": [
       "Text(0.5, 1.0, 'Group data by Gender')"
      ]
     },
     "execution_count": 109,
     "metadata": {},
     "output_type": "execute_result"
    },
    {
     "data": {
      "image/png": "[encoded data removed]",
      "text/plain": [
       "<Figure size 432x288 with 1 Axes>"
      ]
     },
     "metadata": {
      "needs_background": "light"
     },
     "output_type": "display_data"
    }
   ],
   "source": [
    "plt.figure()\n",
    "fig = sns.countplot(x='gender', data=bankFraud_fraud)\n",
    "plt.title('Group data by Gender')\n",
    "\n",
    "# Female : 1\n",
    "# Male : 2\n",
    "# Enterprise : 3"
   ]
  },
  {
   "cell_type": "markdown",
   "metadata": {},
   "source": [
    "From the above figure, it can be determined that **females** are involved in double the amount of fraudulent activities than **males**."
   ]
  },
  {
   "cell_type": "code",
   "execution_count": 83,
   "metadata": {},
   "outputs": [
    {
     "data": {
      "text/html": [
       "<div>\n",
       "<style scoped>\n",
       "    .dataframe tbody tr th:only-of-type {\n",
       "        vertical-align: middle;\n",
       "    }\n",
       "\n",
       "    .dataframe tbody tr th {\n",
       "        vertical-align: top;\n",
       "    }\n",
       "\n",
       "    .dataframe thead th {\n",
       "        text-align: right;\n",
       "    }\n",
       "</style>\n",
       "<table border=\"1\" class=\"dataframe\">\n",
       "  <thead>\n",
       "    <tr style=\"text-align: right;\">\n",
       "      <th>fraud</th>\n",
       "      <th>0</th>\n",
       "      <th>1</th>\n",
       "    </tr>\n",
       "    <tr>\n",
       "      <th>category</th>\n",
       "      <th></th>\n",
       "      <th></th>\n",
       "    </tr>\n",
       "  </thead>\n",
       "  <tbody>\n",
       "    <tr>\n",
       "      <th>'es_barsandrestaurants'</th>\n",
       "      <td>6250.0</td>\n",
       "      <td>120.0</td>\n",
       "    </tr>\n",
       "    <tr>\n",
       "      <th>'es_contents'</th>\n",
       "      <td>885.0</td>\n",
       "      <td>NaN</td>\n",
       "    </tr>\n",
       "    <tr>\n",
       "      <th>'es_fashion'</th>\n",
       "      <td>6332.0</td>\n",
       "      <td>116.0</td>\n",
       "    </tr>\n",
       "    <tr>\n",
       "      <th>'es_food'</th>\n",
       "      <td>26224.0</td>\n",
       "      <td>NaN</td>\n",
       "    </tr>\n",
       "    <tr>\n",
       "      <th>'es_health'</th>\n",
       "      <td>14416.0</td>\n",
       "      <td>1696.0</td>\n",
       "    </tr>\n",
       "    <tr>\n",
       "      <th>'es_home'</th>\n",
       "      <td>1682.0</td>\n",
       "      <td>302.0</td>\n",
       "    </tr>\n",
       "    <tr>\n",
       "      <th>'es_hotelservices'</th>\n",
       "      <td>1196.0</td>\n",
       "      <td>548.0</td>\n",
       "    </tr>\n",
       "    <tr>\n",
       "      <th>'es_hyper'</th>\n",
       "      <td>5816.0</td>\n",
       "      <td>280.0</td>\n",
       "    </tr>\n",
       "    <tr>\n",
       "      <th>'es_leisure'</th>\n",
       "      <td>25.0</td>\n",
       "      <td>474.0</td>\n",
       "    </tr>\n",
       "    <tr>\n",
       "      <th>'es_otherservices'</th>\n",
       "      <td>684.0</td>\n",
       "      <td>228.0</td>\n",
       "    </tr>\n",
       "    <tr>\n",
       "      <th>'es_sportsandtoys'</th>\n",
       "      <td>2020.0</td>\n",
       "      <td>1982.0</td>\n",
       "    </tr>\n",
       "    <tr>\n",
       "      <th>'es_tech'</th>\n",
       "      <td>2207.0</td>\n",
       "      <td>158.0</td>\n",
       "    </tr>\n",
       "    <tr>\n",
       "      <th>'es_transportation'</th>\n",
       "      <td>504626.0</td>\n",
       "      <td>NaN</td>\n",
       "    </tr>\n",
       "    <tr>\n",
       "      <th>'es_travel'</th>\n",
       "      <td>150.0</td>\n",
       "      <td>578.0</td>\n",
       "    </tr>\n",
       "    <tr>\n",
       "      <th>'es_wellnessandbeauty'</th>\n",
       "      <td>14363.0</td>\n",
       "      <td>718.0</td>\n",
       "    </tr>\n",
       "  </tbody>\n",
       "</table>\n",
       "</div>"
      ],
      "text/plain": [
       "fraud                           0       1\n",
       "category                                 \n",
       "'es_barsandrestaurants'    6250.0   120.0\n",
       "'es_contents'               885.0     NaN\n",
       "'es_fashion'               6332.0   116.0\n",
       "'es_food'                 26224.0     NaN\n",
       "'es_health'               14416.0  1696.0\n",
       "'es_home'                  1682.0   302.0\n",
       "'es_hotelservices'         1196.0   548.0\n",
       "'es_hyper'                 5816.0   280.0\n",
       "'es_leisure'                 25.0   474.0\n",
       "'es_otherservices'          684.0   228.0\n",
       "'es_sportsandtoys'         2020.0  1982.0\n",
       "'es_tech'                  2207.0   158.0\n",
       "'es_transportation'      504626.0     NaN\n",
       "'es_travel'                 150.0   578.0\n",
       "'es_wellnessandbeauty'    14363.0   718.0"
      ]
     },
     "execution_count": 83,
     "metadata": {},
     "output_type": "execute_result"
    }
   ],
   "source": [
    "bankFraud.pivot_table('amount', index='category', columns='fraud', aggfunc='count')"
   ]
  },
  {
   "cell_type": "markdown",
   "metadata": {},
   "source": [
    "The table above shows that the below categories were not associated with any fraudulent transactions\n",
    "\n",
    "**1. es_contents**\n",
    "**2. es_food**\n",
    "**3. es_transportation**\n",
    "\n",
    "Two sectors that exhibited the most fraudulent transactions which were **es_sportsandtoys** and **es_health**."
   ]
  },
  {
   "cell_type": "code",
   "execution_count": 84,
   "metadata": {},
   "outputs": [
    {
     "data": {
      "text/html": [
       "<div>\n",
       "<style scoped>\n",
       "    .dataframe tbody tr th:only-of-type {\n",
       "        vertical-align: middle;\n",
       "    }\n",
       "\n",
       "    .dataframe tbody tr th {\n",
       "        vertical-align: top;\n",
       "    }\n",
       "\n",
       "    .dataframe thead th {\n",
       "        text-align: right;\n",
       "    }\n",
       "</style>\n",
       "<table border=\"1\" class=\"dataframe\">\n",
       "  <thead>\n",
       "    <tr style=\"text-align: right;\">\n",
       "      <th></th>\n",
       "      <th>customer</th>\n",
       "      <th>age</th>\n",
       "      <th>gender</th>\n",
       "      <th>merchant</th>\n",
       "      <th>amount</th>\n",
       "      <th>fraud</th>\n",
       "      <th>category_'es_barsandrestaurants'</th>\n",
       "      <th>category_'es_contents'</th>\n",
       "      <th>category_'es_fashion'</th>\n",
       "      <th>category_'es_food'</th>\n",
       "      <th>...</th>\n",
       "      <th>category_'es_home'</th>\n",
       "      <th>category_'es_hotelservices'</th>\n",
       "      <th>category_'es_hyper'</th>\n",
       "      <th>category_'es_leisure'</th>\n",
       "      <th>category_'es_otherservices'</th>\n",
       "      <th>category_'es_sportsandtoys'</th>\n",
       "      <th>category_'es_tech'</th>\n",
       "      <th>category_'es_transportation'</th>\n",
       "      <th>category_'es_travel'</th>\n",
       "      <th>category_'es_wellnessandbeauty'</th>\n",
       "    </tr>\n",
       "  </thead>\n",
       "  <tbody>\n",
       "    <tr>\n",
       "      <th>0</th>\n",
       "      <td>'C1093826151'</td>\n",
       "      <td>4</td>\n",
       "      <td>2</td>\n",
       "      <td>'M348934600'</td>\n",
       "      <td>4.55</td>\n",
       "      <td>0</td>\n",
       "      <td>0</td>\n",
       "      <td>0</td>\n",
       "      <td>0</td>\n",
       "      <td>0</td>\n",
       "      <td>...</td>\n",
       "      <td>0</td>\n",
       "      <td>0</td>\n",
       "      <td>0</td>\n",
       "      <td>0</td>\n",
       "      <td>0</td>\n",
       "      <td>0</td>\n",
       "      <td>0</td>\n",
       "      <td>1</td>\n",
       "      <td>0</td>\n",
       "      <td>0</td>\n",
       "    </tr>\n",
       "    <tr>\n",
       "      <th>1</th>\n",
       "      <td>'C352968107'</td>\n",
       "      <td>2</td>\n",
       "      <td>2</td>\n",
       "      <td>'M348934600'</td>\n",
       "      <td>39.68</td>\n",
       "      <td>0</td>\n",
       "      <td>0</td>\n",
       "      <td>0</td>\n",
       "      <td>0</td>\n",
       "      <td>0</td>\n",
       "      <td>...</td>\n",
       "      <td>0</td>\n",
       "      <td>0</td>\n",
       "      <td>0</td>\n",
       "      <td>0</td>\n",
       "      <td>0</td>\n",
       "      <td>0</td>\n",
       "      <td>0</td>\n",
       "      <td>1</td>\n",
       "      <td>0</td>\n",
       "      <td>0</td>\n",
       "    </tr>\n",
       "    <tr>\n",
       "      <th>2</th>\n",
       "      <td>'C2054744914'</td>\n",
       "      <td>4</td>\n",
       "      <td>1</td>\n",
       "      <td>'M1823072687'</td>\n",
       "      <td>26.89</td>\n",
       "      <td>0</td>\n",
       "      <td>0</td>\n",
       "      <td>0</td>\n",
       "      <td>0</td>\n",
       "      <td>0</td>\n",
       "      <td>...</td>\n",
       "      <td>0</td>\n",
       "      <td>0</td>\n",
       "      <td>0</td>\n",
       "      <td>0</td>\n",
       "      <td>0</td>\n",
       "      <td>0</td>\n",
       "      <td>0</td>\n",
       "      <td>1</td>\n",
       "      <td>0</td>\n",
       "      <td>0</td>\n",
       "    </tr>\n",
       "    <tr>\n",
       "      <th>3</th>\n",
       "      <td>'C1760612790'</td>\n",
       "      <td>3</td>\n",
       "      <td>2</td>\n",
       "      <td>'M348934600'</td>\n",
       "      <td>17.25</td>\n",
       "      <td>0</td>\n",
       "      <td>0</td>\n",
       "      <td>0</td>\n",
       "      <td>0</td>\n",
       "      <td>0</td>\n",
       "      <td>...</td>\n",
       "      <td>0</td>\n",
       "      <td>0</td>\n",
       "      <td>0</td>\n",
       "      <td>0</td>\n",
       "      <td>0</td>\n",
       "      <td>0</td>\n",
       "      <td>0</td>\n",
       "      <td>1</td>\n",
       "      <td>0</td>\n",
       "      <td>0</td>\n",
       "    </tr>\n",
       "    <tr>\n",
       "      <th>4</th>\n",
       "      <td>'C757503768'</td>\n",
       "      <td>5</td>\n",
       "      <td>2</td>\n",
       "      <td>'M348934600'</td>\n",
       "      <td>35.72</td>\n",
       "      <td>0</td>\n",
       "      <td>0</td>\n",
       "      <td>0</td>\n",
       "      <td>0</td>\n",
       "      <td>0</td>\n",
       "      <td>...</td>\n",
       "      <td>0</td>\n",
       "      <td>0</td>\n",
       "      <td>0</td>\n",
       "      <td>0</td>\n",
       "      <td>0</td>\n",
       "      <td>0</td>\n",
       "      <td>0</td>\n",
       "      <td>1</td>\n",
       "      <td>0</td>\n",
       "      <td>0</td>\n",
       "    </tr>\n",
       "  </tbody>\n",
       "</table>\n",
       "<p>5 rows × 21 columns</p>\n",
       "</div>"
      ],
      "text/plain": [
       "        customer  age  gender       merchant  amount  fraud  \\\n",
       "0  'C1093826151'    4       2   'M348934600'    4.55      0   \n",
       "1   'C352968107'    2       2   'M348934600'   39.68      0   \n",
       "2  'C2054744914'    4       1  'M1823072687'   26.89      0   \n",
       "3  'C1760612790'    3       2   'M348934600'   17.25      0   \n",
       "4   'C757503768'    5       2   'M348934600'   35.72      0   \n",
       "\n",
       "   category_'es_barsandrestaurants'  category_'es_contents'  \\\n",
       "0                                 0                       0   \n",
       "1                                 0                       0   \n",
       "2                                 0                       0   \n",
       "3                                 0                       0   \n",
       "4                                 0                       0   \n",
       "\n",
       "   category_'es_fashion'  category_'es_food'  ...  category_'es_home'  \\\n",
       "0                      0                   0  ...                   0   \n",
       "1                      0                   0  ...                   0   \n",
       "2                      0                   0  ...                   0   \n",
       "3                      0                   0  ...                   0   \n",
       "4                      0                   0  ...                   0   \n",
       "\n",
       "   category_'es_hotelservices'  category_'es_hyper'  category_'es_leisure'  \\\n",
       "0                            0                    0                      0   \n",
       "1                            0                    0                      0   \n",
       "2                            0                    0                      0   \n",
       "3                            0                    0                      0   \n",
       "4                            0                    0                      0   \n",
       "\n",
       "   category_'es_otherservices'  category_'es_sportsandtoys'  \\\n",
       "0                            0                            0   \n",
       "1                            0                            0   \n",
       "2                            0                            0   \n",
       "3                            0                            0   \n",
       "4                            0                            0   \n",
       "\n",
       "   category_'es_tech'  category_'es_transportation'  category_'es_travel'  \\\n",
       "0                   0                             1                     0   \n",
       "1                   0                             1                     0   \n",
       "2                   0                             1                     0   \n",
       "3                   0                             1                     0   \n",
       "4                   0                             1                     0   \n",
       "\n",
       "   category_'es_wellnessandbeauty'  \n",
       "0                                0  \n",
       "1                                0  \n",
       "2                                0  \n",
       "3                                0  \n",
       "4                                0  \n",
       "\n",
       "[5 rows x 21 columns]"
      ]
     },
     "execution_count": 84,
     "metadata": {},
     "output_type": "execute_result"
    }
   ],
   "source": [
    "bankFraud = pd.get_dummies(bankFraud, columns=['category'])\n",
    "bankFraud.head()"
   ]
  },
  {
   "cell_type": "code",
   "execution_count": 77,
   "metadata": {},
   "outputs": [
    {
     "data": {
      "text/html": [
       "<div>\n",
       "<style scoped>\n",
       "    .dataframe tbody tr th:only-of-type {\n",
       "        vertical-align: middle;\n",
       "    }\n",
       "\n",
       "    .dataframe tbody tr th {\n",
       "        vertical-align: top;\n",
       "    }\n",
       "\n",
       "    .dataframe thead th {\n",
       "        text-align: right;\n",
       "    }\n",
       "</style>\n",
       "<table border=\"1\" class=\"dataframe\">\n",
       "  <thead>\n",
       "    <tr style=\"text-align: right;\">\n",
       "      <th>fraud</th>\n",
       "      <th>0</th>\n",
       "      <th>1</th>\n",
       "    </tr>\n",
       "    <tr>\n",
       "      <th>age</th>\n",
       "      <th></th>\n",
       "      <th></th>\n",
       "    </tr>\n",
       "  </thead>\n",
       "  <tbody>\n",
       "    <tr>\n",
       "      <th>0</th>\n",
       "      <td>2404</td>\n",
       "      <td>48</td>\n",
       "    </tr>\n",
       "    <tr>\n",
       "      <th>1</th>\n",
       "      <td>57441</td>\n",
       "      <td>689</td>\n",
       "    </tr>\n",
       "    <tr>\n",
       "      <th>2</th>\n",
       "      <td>184945</td>\n",
       "      <td>2344</td>\n",
       "    </tr>\n",
       "    <tr>\n",
       "      <th>3</th>\n",
       "      <td>145360</td>\n",
       "      <td>1755</td>\n",
       "    </tr>\n",
       "    <tr>\n",
       "      <th>4</th>\n",
       "      <td>107608</td>\n",
       "      <td>1410</td>\n",
       "    </tr>\n",
       "    <tr>\n",
       "      <th>5</th>\n",
       "      <td>61952</td>\n",
       "      <td>686</td>\n",
       "    </tr>\n",
       "    <tr>\n",
       "      <th>6</th>\n",
       "      <td>26511</td>\n",
       "      <td>261</td>\n",
       "    </tr>\n",
       "    <tr>\n",
       "      <th>7</th>\n",
       "      <td>1170</td>\n",
       "      <td>7</td>\n",
       "    </tr>\n",
       "  </tbody>\n",
       "</table>\n",
       "</div>"
      ],
      "text/plain": [
       "fraud       0     1\n",
       "age                \n",
       "0        2404    48\n",
       "1       57441   689\n",
       "2      184945  2344\n",
       "3      145360  1755\n",
       "4      107608  1410\n",
       "5       61952   686\n",
       "6       26511   261\n",
       "7        1170     7"
      ]
     },
     "execution_count": 77,
     "metadata": {},
     "output_type": "execute_result"
    }
   ],
   "source": [
    "bankFraud.pivot_table('amount', index='age', columns='fraud', aggfunc='count')\n",
    "# 0: <= 18 \n",
    "# 1: 19-25 \n",
    "# 2: 26-35 \n",
    "# 3: 36-45\n",
    "# 4: 46:55\n",
    "# 5: 56:65\n",
    "# 6: > 65 \n",
    "# 7: Unknown ('U' has been changed to 7)"
   ]
  },
  {
   "cell_type": "markdown",
   "metadata": {},
   "source": [
    "We have 1178 \"Unknown\" values for age out of which 7 of these transactions were engaged in fraudulent activities. Initially this appeared insignificant, but upon further exploring, we determined that all the Unknown values for age were interlinked to the Enterprise values in the gender column."
   ]
  },
  {
   "cell_type": "code",
   "execution_count": 105,
   "metadata": {},
   "outputs": [
    {
     "data": {
      "text/plain": [
       "<matplotlib.axes._subplots.AxesSubplot at 0x17616d5a9d0>"
      ]
     },
     "execution_count": 105,
     "metadata": {},
     "output_type": "execute_result"
    },
    {
     "data": {
      "image/png": "[encoded data removed]",
      "text/plain": [
       "<Figure size 432x288 with 1 Axes>"
      ]
     },
     "metadata": {
      "needs_background": "light"
     },
     "output_type": "display_data"
    }
   ],
   "source": [
    "bankFraud_fraud['age'].hist(bins=8, edgecolor='blue', linewidth=2)\n",
    "# 0: <= 18 \n",
    "# 1: 19-25 \n",
    "# 2: 26-35 \n",
    "# 3: 36-45\n",
    "# 4: 46:55\n",
    "# 5: 56:65\n",
    "# 6: > 65 \n",
    "# 7: Unknown ('U' has been changed to 7)"
   ]
  },
  {
   "cell_type": "markdown",
   "metadata": {},
   "source": [
    "From the histogram above, we can determine that fraudulent activities are more common amongst people ranging from the age group of 26-55"
   ]
  },
  {
   "cell_type": "code",
   "execution_count": 86,
   "metadata": {},
   "outputs": [
    {
     "data": {
      "text/html": [
       "<div>\n",
       "<style scoped>\n",
       "    .dataframe tbody tr th:only-of-type {\n",
       "        vertical-align: middle;\n",
       "    }\n",
       "\n",
       "    .dataframe tbody tr th {\n",
       "        vertical-align: top;\n",
       "    }\n",
       "\n",
       "    .dataframe thead th {\n",
       "        text-align: right;\n",
       "    }\n",
       "</style>\n",
       "<table border=\"1\" class=\"dataframe\">\n",
       "  <thead>\n",
       "    <tr style=\"text-align: right;\">\n",
       "      <th>fraud</th>\n",
       "      <th>1</th>\n",
       "    </tr>\n",
       "    <tr>\n",
       "      <th>customer</th>\n",
       "      <th></th>\n",
       "    </tr>\n",
       "  </thead>\n",
       "  <tbody>\n",
       "    <tr>\n",
       "      <th>'C1000148617'</th>\n",
       "      <td>323.64</td>\n",
       "    </tr>\n",
       "    <tr>\n",
       "      <th>'C100045114'</th>\n",
       "      <td>5004.46</td>\n",
       "    </tr>\n",
       "    <tr>\n",
       "      <th>'C1001065306'</th>\n",
       "      <td>4465.43</td>\n",
       "    </tr>\n",
       "    <tr>\n",
       "      <th>'C1005806982'</th>\n",
       "      <td>170.85</td>\n",
       "    </tr>\n",
       "    <tr>\n",
       "      <th>'C1007572087'</th>\n",
       "      <td>11759.61</td>\n",
       "    </tr>\n",
       "    <tr>\n",
       "      <th>...</th>\n",
       "      <td>...</td>\n",
       "    </tr>\n",
       "    <tr>\n",
       "      <th>'C996804095'</th>\n",
       "      <td>360.03</td>\n",
       "    </tr>\n",
       "    <tr>\n",
       "      <th>'C997029022'</th>\n",
       "      <td>261.35</td>\n",
       "    </tr>\n",
       "    <tr>\n",
       "      <th>'C998690782'</th>\n",
       "      <td>5557.04</td>\n",
       "    </tr>\n",
       "    <tr>\n",
       "      <th>'C999393223'</th>\n",
       "      <td>487.20</td>\n",
       "    </tr>\n",
       "    <tr>\n",
       "      <th>'C999723254'</th>\n",
       "      <td>268.60</td>\n",
       "    </tr>\n",
       "  </tbody>\n",
       "</table>\n",
       "<p>1483 rows × 1 columns</p>\n",
       "</div>"
      ],
      "text/plain": [
       "fraud                 1\n",
       "customer               \n",
       "'C1000148617'    323.64\n",
       "'C100045114'    5004.46\n",
       "'C1001065306'   4465.43\n",
       "'C1005806982'    170.85\n",
       "'C1007572087'  11759.61\n",
       "...                 ...\n",
       "'C996804095'     360.03\n",
       "'C997029022'     261.35\n",
       "'C998690782'    5557.04\n",
       "'C999393223'     487.20\n",
       "'C999723254'     268.60\n",
       "\n",
       "[1483 rows x 1 columns]"
      ]
     },
     "execution_count": 86,
     "metadata": {},
     "output_type": "execute_result"
    }
   ],
   "source": [
    "bankFraud_fraud.pivot_table('amount',index='customer', columns='fraud', aggfunc='sum')"
   ]
  },
  {
   "cell_type": "markdown",
   "metadata": {},
   "source": [
    "## Features"
   ]
  },
  {
   "cell_type": "code",
   "execution_count": 88,
   "metadata": {},
   "outputs": [],
   "source": [
    "label = bankFraud['fraud']\n",
    "features = bankFraud.drop('fraud', axis=1)"
   ]
  },
  {
   "cell_type": "code",
   "execution_count": 89,
   "metadata": {},
   "outputs": [],
   "source": [
    "trainF, testF, trainL, testL = train_test_split(features, label, test_size=0.4, random_state=42)"
   ]
  },
  {
   "cell_type": "code",
   "execution_count": 90,
   "metadata": {},
   "outputs": [
    {
     "name": "stdout",
     "output_type": "stream",
     "text": [
      "0.6\n",
      "0.4\n"
     ]
    }
   ],
   "source": [
    "for dataset in [trainF, testF]:\n",
    "    ratio = round(len(dataset) / len(features), 2)\n",
    "    print(ratio)"
   ]
  },
  {
   "cell_type": "code",
   "execution_count": 93,
   "metadata": {},
   "outputs": [
    {
     "name": "stdout",
     "output_type": "stream",
     "text": [
      "(array([ 0,  1,  2,  3,  5,  6,  7,  8,  9, 10, 11, 12, 13, 14, 15, 16, 17,\n",
      "       18, 19], dtype=int64),)\n"
     ]
    }
   ],
   "source": [
    "categorical_features_indices = np.where(features.dtypes != np.float)[0]\n",
    "print(categorical_features)"
   ]
  },
  {
   "cell_type": "markdown",
   "metadata": {},
   "source": [
    "## Machine Learning Model"
   ]
  },
  {
   "cell_type": "markdown",
   "metadata": {},
   "source": [
    "Model Chosen: **CatBoost**. We can use CatBoost without any explicit pre-processing to convert categories into numbers. CatBoost converts categorical values into numbers using various statistics on combinations of categorical features and combinations of categorical and numerical features. \n",
    "We decided to use this model for our customers & merchants column. We did not drop these columns because there were customers that have been repeatedly involved in fraudulent activities."
   ]
  },
  {
   "cell_type": "code",
   "execution_count": 96,
   "metadata": {},
   "outputs": [],
   "source": [
    "model=CatBoostRegressor(iterations=50, depth=3, learning_rate=0.1, loss_function='RMSE')"
   ]
  },
  {
   "cell_type": "code",
   "execution_count": 97,
   "metadata": {},
   "outputs": [
    {
     "data": {
      "application/vnd.jupyter.widget-view+json": {
       "model_id": "3d2bd98cd6334c458a7c30ff0699708a",
       "version_major": 2,
       "version_minor": 0
      },
      "text/plain": [
       "MetricVisualizer(layout=Layout(align_self='stretch', height='500px'))"
      ]
     },
     "metadata": {},
     "output_type": "display_data"
    },
    {
     "name": "stdout",
     "output_type": "stream",
     "text": [
      "0:\tlearn: 0.1023913\ttest: 0.1027054\tbest: 0.1027054 (0)\ttotal: 317ms\tremaining: 15.6s\n",
      "1:\tlearn: 0.0964421\ttest: 0.0968350\tbest: 0.0968350 (1)\ttotal: 415ms\tremaining: 9.95s\n",
      "2:\tlearn: 0.0912619\ttest: 0.0916502\tbest: 0.0916502 (2)\ttotal: 508ms\tremaining: 7.96s\n",
      "3:\tlearn: 0.0868636\ttest: 0.0873126\tbest: 0.0873126 (3)\ttotal: 623ms\tremaining: 7.17s\n",
      "4:\tlearn: 0.0828866\ttest: 0.0833841\tbest: 0.0833841 (4)\ttotal: 702ms\tremaining: 6.32s\n",
      "5:\tlearn: 0.0793503\ttest: 0.0797969\tbest: 0.0797969 (5)\ttotal: 784ms\tremaining: 5.75s\n",
      "6:\tlearn: 0.0764468\ttest: 0.0768838\tbest: 0.0768838 (6)\ttotal: 857ms\tremaining: 5.26s\n",
      "7:\tlearn: 0.0739200\ttest: 0.0743355\tbest: 0.0743355 (7)\ttotal: 946ms\tremaining: 4.97s\n",
      "8:\tlearn: 0.0718092\ttest: 0.0722060\tbest: 0.0722060 (8)\ttotal: 1.04s\tremaining: 4.72s\n",
      "9:\tlearn: 0.0700291\ttest: 0.0703727\tbest: 0.0703727 (9)\ttotal: 1.14s\tremaining: 4.56s\n",
      "10:\tlearn: 0.0685216\ttest: 0.0689012\tbest: 0.0689012 (10)\ttotal: 1.24s\tremaining: 4.38s\n",
      "11:\tlearn: 0.0673052\ttest: 0.0678169\tbest: 0.0678169 (11)\ttotal: 1.34s\tremaining: 4.23s\n",
      "12:\tlearn: 0.0661571\ttest: 0.0666003\tbest: 0.0666003 (12)\ttotal: 1.43s\tremaining: 4.07s\n",
      "13:\tlearn: 0.0652356\ttest: 0.0656905\tbest: 0.0656905 (13)\ttotal: 1.55s\tremaining: 3.98s\n",
      "14:\tlearn: 0.0644553\ttest: 0.0648772\tbest: 0.0648772 (14)\ttotal: 1.62s\tremaining: 3.77s\n",
      "15:\tlearn: 0.0638082\ttest: 0.0642159\tbest: 0.0642159 (15)\ttotal: 1.68s\tremaining: 3.58s\n",
      "16:\tlearn: 0.0632864\ttest: 0.0637260\tbest: 0.0637260 (16)\ttotal: 1.75s\tremaining: 3.39s\n",
      "17:\tlearn: 0.0628163\ttest: 0.0632333\tbest: 0.0632333 (17)\ttotal: 1.82s\tremaining: 3.23s\n",
      "18:\tlearn: 0.0619907\ttest: 0.0623738\tbest: 0.0623738 (18)\ttotal: 1.9s\tremaining: 3.1s\n",
      "19:\tlearn: 0.0613134\ttest: 0.0616678\tbest: 0.0616678 (19)\ttotal: 1.97s\tremaining: 2.95s\n",
      "20:\tlearn: 0.0607839\ttest: 0.0611222\tbest: 0.0611222 (20)\ttotal: 2.04s\tremaining: 2.81s\n",
      "21:\tlearn: 0.0602822\ttest: 0.0606341\tbest: 0.0606341 (21)\ttotal: 2.11s\tremaining: 2.68s\n",
      "22:\tlearn: 0.0598732\ttest: 0.0602124\tbest: 0.0602124 (22)\ttotal: 2.23s\tremaining: 2.62s\n",
      "23:\tlearn: 0.0595054\ttest: 0.0598794\tbest: 0.0598794 (23)\ttotal: 2.32s\tremaining: 2.51s\n",
      "24:\tlearn: 0.0592359\ttest: 0.0596111\tbest: 0.0596111 (24)\ttotal: 2.39s\tremaining: 2.39s\n",
      "25:\tlearn: 0.0589772\ttest: 0.0593523\tbest: 0.0593523 (25)\ttotal: 2.46s\tremaining: 2.27s\n",
      "26:\tlearn: 0.0587671\ttest: 0.0591356\tbest: 0.0591356 (26)\ttotal: 2.54s\tremaining: 2.16s\n",
      "27:\tlearn: 0.0585983\ttest: 0.0589612\tbest: 0.0589612 (27)\ttotal: 2.6s\tremaining: 2.05s\n",
      "28:\tlearn: 0.0583467\ttest: 0.0586907\tbest: 0.0586907 (28)\ttotal: 2.67s\tremaining: 1.93s\n",
      "29:\tlearn: 0.0581844\ttest: 0.0585536\tbest: 0.0585536 (29)\ttotal: 2.75s\tremaining: 1.83s\n",
      "30:\tlearn: 0.0579609\ttest: 0.0582879\tbest: 0.0582879 (30)\ttotal: 2.81s\tremaining: 1.72s\n",
      "31:\tlearn: 0.0578100\ttest: 0.0581329\tbest: 0.0581329 (31)\ttotal: 2.88s\tremaining: 1.62s\n",
      "32:\tlearn: 0.0577006\ttest: 0.0580432\tbest: 0.0580432 (32)\ttotal: 2.95s\tremaining: 1.52s\n",
      "33:\tlearn: 0.0576126\ttest: 0.0579429\tbest: 0.0579429 (33)\ttotal: 3.01s\tremaining: 1.42s\n",
      "34:\tlearn: 0.0575257\ttest: 0.0578353\tbest: 0.0578353 (34)\ttotal: 3.08s\tremaining: 1.32s\n",
      "35:\tlearn: 0.0574474\ttest: 0.0577639\tbest: 0.0577639 (35)\ttotal: 3.15s\tremaining: 1.22s\n",
      "36:\tlearn: 0.0573080\ttest: 0.0576116\tbest: 0.0576116 (36)\ttotal: 3.26s\tremaining: 1.15s\n",
      "37:\tlearn: 0.0572503\ttest: 0.0575337\tbest: 0.0575337 (37)\ttotal: 3.36s\tremaining: 1.06s\n",
      "38:\tlearn: 0.0571691\ttest: 0.0574474\tbest: 0.0574474 (38)\ttotal: 3.45s\tremaining: 973ms\n",
      "39:\tlearn: 0.0570285\ttest: 0.0572685\tbest: 0.0572685 (39)\ttotal: 3.54s\tremaining: 885ms\n",
      "40:\tlearn: 0.0569121\ttest: 0.0571244\tbest: 0.0571244 (40)\ttotal: 3.61s\tremaining: 793ms\n",
      "41:\tlearn: 0.0568532\ttest: 0.0570566\tbest: 0.0570566 (41)\ttotal: 3.69s\tremaining: 703ms\n",
      "42:\tlearn: 0.0568038\ttest: 0.0569950\tbest: 0.0569950 (42)\ttotal: 3.77s\tremaining: 613ms\n",
      "43:\tlearn: 0.0567581\ttest: 0.0569453\tbest: 0.0569453 (43)\ttotal: 3.83s\tremaining: 523ms\n",
      "44:\tlearn: 0.0566858\ttest: 0.0568711\tbest: 0.0568711 (44)\ttotal: 3.91s\tremaining: 434ms\n",
      "45:\tlearn: 0.0565989\ttest: 0.0567741\tbest: 0.0567741 (45)\ttotal: 3.98s\tremaining: 346ms\n",
      "46:\tlearn: 0.0565425\ttest: 0.0567181\tbest: 0.0567181 (46)\ttotal: 4.04s\tremaining: 258ms\n",
      "47:\tlearn: 0.0564237\ttest: 0.0566075\tbest: 0.0566075 (47)\ttotal: 4.11s\tremaining: 171ms\n",
      "48:\tlearn: 0.0563350\ttest: 0.0565036\tbest: 0.0565036 (48)\ttotal: 4.21s\tremaining: 85.9ms\n",
      "49:\tlearn: 0.0562660\ttest: 0.0564298\tbest: 0.0564298 (49)\ttotal: 4.3s\tremaining: 0us\n",
      "\n",
      "bestTest = 0.05642982915\n",
      "bestIteration = 49\n",
      "\n"
     ]
    },
    {
     "data": {
      "text/plain": [
       "<catboost.core.CatBoostRegressor at 0x17616db5be0>"
      ]
     },
     "execution_count": 97,
     "metadata": {},
     "output_type": "execute_result"
    }
   ],
   "source": [
    "model.fit(trainF, trainL,cat_features=categorical_features_indices,eval_set=(testF, testL),plot=True)"
   ]
  },
  {
   "cell_type": "code",
   "execution_count": 100,
   "metadata": {},
   "outputs": [
    {
     "name": "stdout",
     "output_type": "stream",
     "text": [
      "0.006867167675701981\n"
     ]
    }
   ],
   "source": [
    "msae = mean_absolute_error(trainL, model.predict(trainF))\n",
    "print(msae)"
   ]
  },
  {
   "cell_type": "code",
   "execution_count": 101,
   "metadata": {},
   "outputs": [
    {
     "name": "stdout",
     "output_type": "stream",
     "text": [
      "0.00700902269703635\n"
     ]
    }
   ],
   "source": [
    "msae = mean_absolute_error(testL, model.predict(testF))\n",
    "print(msae)"
   ]
  },
  {
   "cell_type": "markdown",
   "metadata": {},
   "source": [
    "## Decision"
   ]
  },
  {
   "cell_type": "code",
   "execution_count": null,
   "metadata": {},
   "outputs": [],
   "source": []
  }
 ],
 "metadata": {
  "kernelspec": {
   "display_name": "Python 3",
   "language": "python",
   "name": "python3"
  },
  "language_info": {
   "codemirror_mode": {
    "name": "ipython",
    "version": 3
   },
   "file_extension": ".py",
   "mimetype": "text/x-python",
   "name": "python",
   "nbconvert_exporter": "python",
   "pygments_lexer": "ipython3",
   "version": "3.8.3"
  }
 },
 "nbformat": 4,
 "nbformat_minor": 4
}
